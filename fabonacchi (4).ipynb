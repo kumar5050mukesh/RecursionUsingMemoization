{
 "cells": [
  {
   "cell_type": "code",
   "execution_count": 16,
   "id": "ae9d27b1-f58b-4193-ae77-91eb45394af6",
   "metadata": {},
   "outputs": [
    {
     "name": "stdin",
     "output_type": "stream",
     "text": [
      "please enter the number 10\n"
     ]
    },
    {
     "name": "stdout",
     "output_type": "stream",
     "text": [
      "[None, None, None, None, None, None, None, None, None, None, None]\n",
      "55\n"
     ]
    }
   ],
   "source": [
    "num=int(input('please enter the number'))\n",
    "list_name = [None] * (num + 1)\n",
    "print(list_name)\n",
    "\n",
    "def fabona(num, list_name):\n",
    "    if list_name[num] is not None:\n",
    "        return list_name[num]\n",
    "    \n",
    "    if num == 0:\n",
    "        list_name[num] = 0\n",
    "        return 0\n",
    "    elif num == 1:\n",
    "        list_name[num] = 1\n",
    "        return 1\n",
    "    else:\n",
    "        list_name[num] = fabona(num - 1, list_name) + fabona(num - 2, list_name)\n",
    "        return list_name[num]\n",
    "\t\t\t\n",
    "\n",
    "print(fabona(num, list_name))"
   ]
  },
  {
   "cell_type": "code",
   "execution_count": null,
   "id": "6c444c98-e287-432a-9d84-c1ee5226a5df",
   "metadata": {},
   "outputs": [],
   "source": []
  },
  {
   "cell_type": "code",
   "execution_count": null,
   "id": "9fcdfffb-562a-4be8-be1e-7d41907c310f",
   "metadata": {},
   "outputs": [],
   "source": []
  }
 ],
 "metadata": {
  "kernelspec": {
   "display_name": "Python 3 (ipykernel)",
   "language": "python",
   "name": "python3"
  },
  "language_info": {
   "codemirror_mode": {
    "name": "ipython",
    "version": 3
   },
   "file_extension": ".py",
   "mimetype": "text/x-python",
   "name": "python",
   "nbconvert_exporter": "python",
   "pygments_lexer": "ipython3",
   "version": "3.10.8"
  }
 },
 "nbformat": 4,
 "nbformat_minor": 5
}
