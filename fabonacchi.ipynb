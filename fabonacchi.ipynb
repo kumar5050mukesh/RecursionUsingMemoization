{
 "cells": [
  {
   "cell_type": "code",
   "execution_count": 2,
   "id": "ae9d27b1-f58b-4193-ae77-91eb45394af6",
   "metadata": {},
   "outputs": [
    {
     "name": "stdin",
     "output_type": "stream",
     "text": [
      "Input the number:  100\n"
     ]
    },
    {
     "name": "stdout",
     "output_type": "stream",
     "text": [
      "354224848179261915075\n"
     ]
    }
   ],
   "source": [
    "num = int(input('Input the number: '))\n",
    "arr = [None] * (num + 1)\n",
    "\n",
    "def fabona(num, arr):\n",
    "    if arr[num] is not None:\n",
    "        return arr[num]\n",
    "    if num == 0:\n",
    "        arr[num] = 0\n",
    "        return 0\n",
    "    elif num == 1:\n",
    "        arr[num] = 1\n",
    "        return 1\n",
    "    else:\n",
    "        arr[num] = fabona(num - 1, arr) + fabona(num - 2, arr)\n",
    "        return arr[num]\n",
    "\n",
    "print(fabona(num, arr))"
   ]
  },
  {
   "cell_type": "code",
   "execution_count": null,
   "id": "6c444c98-e287-432a-9d84-c1ee5226a5df",
   "metadata": {},
   "outputs": [],
   "source": []
  }
 ],
 "metadata": {
  "kernelspec": {
   "display_name": "Python 3 (ipykernel)",
   "language": "python",
   "name": "python3"
  },
  "language_info": {
   "codemirror_mode": {
    "name": "ipython",
    "version": 3
   },
   "file_extension": ".py",
   "mimetype": "text/x-python",
   "name": "python",
   "nbconvert_exporter": "python",
   "pygments_lexer": "ipython3",
   "version": "3.10.8"
  }
 },
 "nbformat": 4,
 "nbformat_minor": 5
}
